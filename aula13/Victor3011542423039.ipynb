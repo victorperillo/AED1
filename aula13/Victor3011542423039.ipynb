{
 "cells": [
  {
   "cell_type": "code",
   "execution_count": 1,
   "id": "2cebef27-df27-4e22-a9ab-fe39ada758a2",
   "metadata": {},
   "outputs": [
    {
     "name": "stdin",
     "output_type": "stream",
     "text": [
      "Informe a frase:  batatinha quase nasce, derrama pelo chão\n"
     ]
    },
    {
     "name": "stdout",
     "output_type": "stream",
     "text": [
      "Frase normalizada:  batatinha_quase_nasce,_derrama_pelo_chão\n"
     ]
    }
   ],
   "source": [
    "#Exercicio 1\n",
    "frase = input(\"Informe a frase: \")\n",
    "frase = frase.lower()\n",
    "palavras = frase.split()\n",
    "frase_sem_espaco = ' '.join(palavras)\n",
    "frasenormalizada = frase_sem_espaco.replace(' ', \"_\")\n",
    "print(\"Frase normalizada: \", frasenormalizada)\n",
    "\n"
   ]
  },
  {
   "cell_type": "code",
   "execution_count": 15,
   "id": "802161bc-6a0d-45a5-84b9-3eeed3b39e1c",
   "metadata": {},
   "outputs": [
    {
     "name": "stdout",
     "output_type": "stream",
     "text": [
      "A média das vendas acima de R$ 100,00 é: R$ 262.07\n"
     ]
    }
   ],
   "source": [
    "#Exercicio 2\n",
    "vendas = [20.50, 223.45, 310, 123.40, 110.40, 543.10, 22.10, 20.00]\n",
    "vendas_filtradas = []\n",
    "media_vendas = []\n",
    "for venda in vendas:\n",
    "    if venda >= 100.00:\n",
    "        vendas_filtradas.append(venda)\n",
    "if len(vendas_filtradas) > 0:\n",
    "    media_vendas = sum(vendas_filtradas) / len(vendas_filtradas)\n",
    "    print(\"A média das vendas acima de R$ 100,00 é: R$\", round(media_vendas, 2))\n",
    "else:\n",
    "    print(\"Não tem vendas acima de R$100,00\")"
   ]
  },
  {
   "cell_type": "code",
   "execution_count": 44,
   "id": "2614d37a-820b-4736-bff3-7e8cb2da3407",
   "metadata": {},
   "outputs": [
    {
     "name": "stdin",
     "output_type": "stream",
     "text": [
      "Digite x1:  2\n",
      "Digite y1:  2\n",
      "Digite x2:  3\n",
      "Digite y2:  3\n",
      "Digite x3:  4\n",
      "Digite y3:  4\n"
     ]
    },
    {
     "name": "stdout",
     "output_type": "stream",
     "text": [
      "Distância média: 3.4\n"
     ]
    }
   ],
   "source": [
    "#Exercicio 3\n",
    "import math\n",
    "\n",
    "def calcular_distancia(x, y):\n",
    "    return math.sqrt(x*2 + y*2)\n",
    "\n",
    "def distancia_media():\n",
    "    distancias = []  \n",
    "\n",
    "    for i in range(1, 4):\n",
    "        x = float(input(f\"Digite x{i}: \"))\n",
    "        y = float(input(f\"Digite y{i}: \"))\n",
    "        \n",
    "        distancia = calcular_distancia(x, y)\n",
    "        distancias.append(distancia)  \n",
    "    distancia_media = sum(distancias) / len(distancias)    \n",
    "    print(f\"Distância média: {distancia_media:.1f}\")\n",
    "\n",
    "distancia_media()"
   ]
  },
  {
   "cell_type": "code",
   "execution_count": 46,
   "id": "0ec0f43e-4cbc-4dd2-8bea-1bd34f1ec6f2",
   "metadata": {},
   "outputs": [
    {
     "name": "stdin",
     "output_type": "stream",
     "text": [
      "Digite uma frase:  batatinha quando nasce espalha rama quando nasce\n"
     ]
    },
    {
     "name": "stdout",
     "output_type": "stream",
     "text": [
      "\n",
      "Frequência das palavras:\n",
      "batatinha: 1\n",
      "quando: 2\n",
      "nasce: 2\n",
      "espalha: 1\n",
      "rama: 1\n"
     ]
    }
   ],
   "source": [
    "#Exercicio 4\n",
    "frase = input(\"Digite uma frase: \")\n",
    "palavras = frase.split()\n",
    "contagem = {}\n",
    "\n",
    "for palavra in palavras:\n",
    "    if palavra in contagem:\n",
    "        contagem[palavra] += 1\n",
    "    else:\n",
    "        contagem[palavra] = 1\n",
    "\n",
    "print(\"\\nFrequência das palavras:\")\n",
    "for palavra, frequencia in contagem.items():\n",
    "    print(f\"{palavra}: {frequencia}\")\n"
   ]
  }
 ],
 "metadata": {
  "kernelspec": {
   "display_name": "Python 3 (ipykernel)",
   "language": "python",
   "name": "python3"
  },
  "language_info": {
   "codemirror_mode": {
    "name": "ipython",
    "version": 3
   },
   "file_extension": ".py",
   "mimetype": "text/x-python",
   "name": "python",
   "nbconvert_exporter": "python",
   "pygments_lexer": "ipython3",
   "version": "3.12.4"
  }
 },
 "nbformat": 4,
 "nbformat_minor": 5
}
