{
 "cells": [
  {
   "cell_type": "markdown",
   "metadata": {},
   "source": [
    "![Algoritmos e Estrutura de Dados I](AED1_banner.jpg)"
   ]
  },
  {
   "cell_type": "markdown",
   "metadata": {},
   "source": [
    "## <font color='blue'>Algoritmos e Estrutura de Dados I</font>\n",
    "## <font color='blue'>Aula 9 -  Revisão</font>"
   ]
  },
  {
   "cell_type": "code",
   "execution_count": null,
   "metadata": {},
   "outputs": [],
   "source": [
    "# Versão da Linguagem Python\n",
    "from platform import python_version\n",
    "print('Versão da Linguagem Python Usada Neste Jupyter Notebook:', python_version())"
   ]
  },
  {
   "cell_type": "markdown",
   "metadata": {},
   "source": [
    "## Estrutura sequencial"
   ]
  },
  {
   "cell_type": "markdown",
   "metadata": {},
   "source": [
    "Escreva um programa em Python que solicite ao usuário o valor de dois números, calcule e exiba a soma deles."
   ]
  },
  {
   "cell_type": "code",
   "execution_count": 39,
   "metadata": {},
   "outputs": [
    {
     "name": "stdin",
     "output_type": "stream",
     "text": [
      "informe um valor: 10\n",
      "informe outro numero: 5\n"
     ]
    },
    {
     "name": "stdout",
     "output_type": "stream",
     "text": [
      "O resultado é:  15.0\n"
     ]
    }
   ],
   "source": [
    "num1 = float(input(\"informe um valor:\"))\n",
    "num2 = float(input(\"informe outro numero:\"))\n",
    "r = num1 + num2\n",
    "print(f\"O resultado é: \", r)\n",
    "\n"
   ]
  },
  {
   "attachments": {},
   "cell_type": "markdown",
   "metadata": {},
   "source": [
    "Escreva um programa em Python que solicite ao usuário a temperatura em graus Celsius e converta para Fahrenheit. A fórmula para conversão é F = C * 9/5 + 32.\n"
   ]
  },
  {
   "cell_type": "code",
   "execution_count": 41,
   "metadata": {},
   "outputs": [
    {
     "name": "stdin",
     "output_type": "stream",
     "text": [
      "Informe a temperatura em Celsius: 35\n"
     ]
    },
    {
     "name": "stdout",
     "output_type": "stream",
     "text": [
      "A temperatura em Fahrenheit é:  95.0\n"
     ]
    }
   ],
   "source": [
    "Ce = float(input(\"Informe a temperatura em Celsius:\"))\n",
    "F = (Ce * 9/5) +32\n",
    "print(f\"A temperatura em Fahrenheit é: \", F)\n"
   ]
  },
  {
   "cell_type": "markdown",
   "metadata": {},
   "source": [
    "## Estrutura Condicional"
   ]
  },
  {
   "cell_type": "markdown",
   "metadata": {},
   "source": [
    "Escreva um programa em Python que solicite ao usuário um número e verifique se ele é positivo, negativo ou zero. Exiba a mensagem correspondente.\n"
   ]
  },
  {
   "cell_type": "code",
   "execution_count": 47,
   "metadata": {},
   "outputs": [
    {
     "name": "stdin",
     "output_type": "stream",
     "text": [
      "Informe um numero:  -4\n"
     ]
    },
    {
     "name": "stdout",
     "output_type": "stream",
     "text": [
      "O numero informado é negativo\n"
     ]
    }
   ],
   "source": [
    "num1 = float(input(\"Informe um numero: \"))\n",
    "if num1 > 0:\n",
    "    print(\"O numero informado é positivo\")\n",
    "elif num1 < 0:\n",
    "    print(\"O numero informado é negativo\")\n",
    "else:\n",
    "    print(\"O numero infromado é zero\")\n"
   ]
  },
  {
   "cell_type": "markdown",
   "metadata": {},
   "source": [
    "Escreva um programa em Python que solicite ao usuário três números e determine qual é o maior entre eles.\n"
   ]
  },
  {
   "cell_type": "code",
   "execution_count": 55,
   "metadata": {},
   "outputs": [
    {
     "name": "stdin",
     "output_type": "stream",
     "text": [
      "Informe o primeiro numero: 10\n",
      "Informe o segundo numero 3\n",
      "Informe o terceiro numero 33\n"
     ]
    },
    {
     "name": "stdout",
     "output_type": "stream",
     "text": [
      "O maior numero é:  33.0\n"
     ]
    }
   ],
   "source": [
    "num1 = float(input(\"Informe o primeiro numero:\"))\n",
    "num2 = float(input(\"Informe o segundo numero\"))\n",
    "num3 = float(input(\"Informe o terceiro numero\"))\n",
    "if num1 >= num2 and num1 >= num3:\n",
    "    maior = num1\n",
    "elif num2 >= num1 and num2 >= num3:\n",
    "    maior = num2\n",
    "else:\n",
    "    maior = num3\n",
    "\n",
    "print(f\"O maior numero é: \", maior)\n"
   ]
  },
  {
   "cell_type": "markdown",
   "metadata": {},
   "source": [
    "## Estrutura de Repetição"
   ]
  },
  {
   "cell_type": "markdown",
   "metadata": {},
   "source": [
    "Escreva um programa em Python que exiba todos os números de 1 a 10.\n"
   ]
  },
  {
   "cell_type": "code",
   "execution_count": 61,
   "metadata": {},
   "outputs": [
    {
     "name": "stdout",
     "output_type": "stream",
     "text": [
      "1\n",
      "2\n",
      "3\n",
      "4\n",
      "5\n",
      "6\n",
      "7\n",
      "8\n",
      "9\n",
      "10\n"
     ]
    }
   ],
   "source": [
    "for num in range (1, 11):\n",
    "    print (num)\n"
   ]
  },
  {
   "cell_type": "markdown",
   "metadata": {},
   "source": [
    "Escreva um programa em Python que solicite ao usuário um número inteiro positivo e calcule o fatorial desse número.\n"
   ]
  },
  {
   "cell_type": "code",
   "execution_count": 67,
   "metadata": {},
   "outputs": [
    {
     "name": "stdin",
     "output_type": "stream",
     "text": [
      "Informe um numero inteiro e positivo:  10\n"
     ]
    },
    {
     "name": "stdout",
     "output_type": "stream",
     "text": [
      "O fatorial de 10 é 1\n",
      "O fatorial de 10 é 2\n",
      "O fatorial de 10 é 6\n",
      "O fatorial de 10 é 24\n",
      "O fatorial de 10 é 120\n",
      "O fatorial de 10 é 720\n",
      "O fatorial de 10 é 5040\n",
      "O fatorial de 10 é 40320\n",
      "O fatorial de 10 é 362880\n",
      "O fatorial de 10 é 3628800\n"
     ]
    }
   ],
   "source": [
    "num1 = int(input(\"Informe um numero inteiro e positivo: \"))\n",
    "if num1 < 0:\n",
    "    print(\"Por favor, insira um numero positivo\")\n",
    "else:\n",
    "    fatorial = 1\n",
    "    for i in range(1, num1 + 1):\n",
    "        fatorial *= i\n",
    "        print (f\"O fatorial de {num1} é {fatorial}\")\n"
   ]
  },
  {
   "cell_type": "markdown",
   "metadata": {},
   "source": [
    "## Geral"
   ]
  },
  {
   "cell_type": "markdown",
   "metadata": {},
   "source": [
    "Você é um cientista de dados e precisa analisar as notas de um conjunto de estudantes em uma disciplina. Você deverá escrever um programa em Python que solicite ao usuário o número de estudantes e, em seguida, as notas desses estudantes. O programa deve calcular e exibir:\n",
    "\n",
    "- A média das notas.\n",
    "- A maior e a menor nota.\n",
    "- O número de estudantes aprovados (nota maior ou igual a 6) e reprovados (nota menor que 6).\n",
    "\n",
    "Regras:\n",
    "\n",
    "- Utilize variáveis simples para armazenar as informações.\n",
    "- Utilize estruturas de repetição para coletar as notas dos estudantes.\n",
    "- Utilize estruturas condicionais para determinar o status de aprovação dos estudantes."
   ]
  },
  {
   "cell_type": "code",
   "execution_count": 102,
   "metadata": {},
   "outputs": [
    {
     "name": "stdin",
     "output_type": "stream",
     "text": [
      "Informe o numero total de estudantes 1\n",
      "Digite a nota do estudante:  10\n"
     ]
    },
    {
     "name": "stdout",
     "output_type": "stream",
     "text": [
      "\n",
      "media das notas: 10.00\n",
      "Maior nota é: 10.0\n",
      " Menor nota é: 10.0\n",
      "Número de aprovados (nota >= 6): 1\n",
      "Numero de reprovados (nota <= 6): 0\n"
     ]
    }
   ],
   "source": [
    "num_estudantes = int(input(\"Informe o numero total de estudantes\"))\n",
    "notas = []\n",
    "aprovados = 0\n",
    "reprovados = 0\n",
    "i = 0\n",
    "for i in range(num_estudantes):\n",
    "    nota = float(input(\"Digite a nota do estudante: \"))\n",
    "    notas.append(nota)\n",
    "    if nota >= 6:\n",
    "        aprovados += 1\n",
    "    else:\n",
    "        reprovados += 1\n",
    "media = sum(notas) / num_estudantes\n",
    "m_nota = max(notas)\n",
    "min_nota = min(notas)\n",
    "\n",
    "print(f\"\\nmedia das notas: {media:.2f}\")\n",
    "print(f\"Maior nota é: {m_nota}\")\n",
    "print(f\" Menor nota é: {min_nota}\")\n",
    "print(f\"Número de aprovados (nota >= 6): {aprovados}\")\n",
    "print(f\"Numero de reprovados (nota <= 6): {reprovados}\")\n"
   ]
  },
  {
   "cell_type": "markdown",
   "metadata": {},
   "source": [
    "Faça um programa que receba um número inteiro positivo e transforme esse número para binário."
   ]
  },
  {
   "cell_type": "code",
   "execution_count": 104,
   "metadata": {},
   "outputs": [
    {
     "name": "stdin",
     "output_type": "stream",
     "text": [
      "Informe um numero inteiro e positivo: 10\n"
     ]
    },
    {
     "name": "stdout",
     "output_type": "stream",
     "text": [
      "O numero 10 em binário é 1010\n"
     ]
    }
   ],
   "source": [
    "num = int(input(\"Informe um numero inteiro e positivo:\"))\n",
    "if num < 0:\n",
    "    print(f\"O {num} é invalido, entre com um numero inteiro e positivo\")\n",
    "else:\n",
    "    binario = bin(num)[2:]\n",
    "    print(f\"O numero {num} em binário é {binario}\")"
   ]
  },
  {
   "cell_type": "markdown",
   "metadata": {},
   "source": [
    "## Fim da Aula 9"
   ]
  }
 ],
 "metadata": {
  "kernelspec": {
   "display_name": "Python 3 (ipykernel)",
   "language": "python",
   "name": "python3"
  },
  "language_info": {
   "codemirror_mode": {
    "name": "ipython",
    "version": 3
   },
   "file_extension": ".py",
   "mimetype": "text/x-python",
   "name": "python",
   "nbconvert_exporter": "python",
   "pygments_lexer": "ipython3",
   "version": "3.12.4"
  }
 },
 "nbformat": 4,
 "nbformat_minor": 4
}
